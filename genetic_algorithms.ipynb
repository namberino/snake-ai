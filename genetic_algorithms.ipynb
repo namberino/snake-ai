{
 "cells": [
  {
   "cell_type": "markdown",
   "metadata": {},
   "source": [
    "# Genetic Algorithm Framework Structure \n",
    "\n",
    "1. Genome Representation:\n",
    "\n",
    "    Each genome represents the weights of the neural network (Linear_QNet).\n",
    "    We'll store these weights in a flat array (a single vector).\n",
    "\n",
    "2. Population Initialization:\n",
    "\n",
    "    Randomly generate initial weights for a population of networks.\n",
    "\n",
    "3. Fitness Function:\n",
    "\n",
    "    Run the Snake game using the weights of the network, and use the game score as the fitness.\n",
    "\n",
    "4. Selection, Crossover, and Mutation:\n",
    "\n",
    "    Select the best-performing genomes for reproduction.\n",
    "    Combine and slightly mutate the weights to create a new generation.\n",
    "\n",
    "5. Evolution Loop:\n",
    "\n",
    "    Repeat the process for a fixed number of generations."
   ]
  },
  {
   "cell_type": "code",
   "execution_count": 1,
   "metadata": {},
   "outputs": [
    {
     "name": "stdout",
     "output_type": "stream",
     "text": [
      "pygame 2.6.0 (SDL 2.28.4, Python 3.9.19)\n",
      "Hello from the pygame community. https://www.pygame.org/contribute.html\n"
     ]
    }
   ],
   "source": [
    "import torch\n",
    "import random\n",
    "import matplotlib.pyplot as plt\n",
    "import numpy as np\n",
    "from model import Linear_QNet\n",
    "from agent import Agent\n",
    "from snake import SnakeAI"
   ]
  },
  {
   "cell_type": "markdown",
   "metadata": {},
   "source": [
    "# Step 1: Implementing the Genetic Algorithm"
   ]
  },
  {
   "cell_type": "markdown",
   "metadata": {},
   "source": [
    "### 1. Genome Representation and Population Initialization:"
   ]
  },
  {
   "cell_type": "code",
   "execution_count": 2,
   "metadata": {},
   "outputs": [],
   "source": [
    "# Parameters for the GA\n",
    "POPULATION_SIZE = 50\n",
    "GENERATIONS = 100\n",
    "MUTATION_RATE = 0.1\n",
    "\n",
    "# Parameters for the Neural Network\n",
    "INPUT_SIZE = 12\n",
    "HIDDEN_SIZE = 255\n",
    "OUTPUT_SIZE = 3"
   ]
  },
  {
   "cell_type": "code",
   "execution_count": 3,
   "metadata": {},
   "outputs": [],
   "source": [
    "# Flatten the model's parameters into a single array (genome)\n",
    "def flatten_weights(model):\n",
    "    # Convert model's parameters to a list of numpy arrays\n",
    "    return np.concatenate([param.data.cpu().numpy().flatten() for param in model.parameters()])\n",
    "\n",
    "# Create a new model from a flattened genome\n",
    "def set_weights(model, genome):\n",
    "    idx = 0\n",
    "    for param in model.parameters():\n",
    "        param_length = np.prod(param.data.shape)\n",
    "        param.data = torch.tensor(genome[idx:idx + param_length].reshape(param.data.shape))\n",
    "        idx += param_length\n",
    "\n",
    "# Initialize a population of random genomes\n",
    "def initialize_population():\n",
    "    population = []\n",
    "    for _ in range(POPULATION_SIZE):\n",
    "        model = Linear_QNet(INPUT_SIZE, HIDDEN_SIZE, OUTPUT_SIZE)\n",
    "        genome = flatten_weights(model)\n",
    "        population.append(genome)\n",
    "    return population"
   ]
  },
  {
   "cell_type": "markdown",
   "metadata": {},
   "source": [
    "### 2. Fitness Evaluation"
   ]
  },
  {
   "cell_type": "code",
   "execution_count": 4,
   "metadata": {},
   "outputs": [],
   "source": [
    "#? We’ll define a function that plays the game with a given genome and returns the fitness:\n",
    "def evaluate_fitness(genome):\n",
    "    model = Linear_QNet(INPUT_SIZE, HIDDEN_SIZE, OUTPUT_SIZE)\n",
    "    set_weights(model, genome)\n",
    "    agent = Agent()\n",
    "    agent.model = model\n",
    "    total_score = 0\n",
    "    \n",
    "    for _ in range(5):  # Run multiple games to get a more accurate fitness\n",
    "        snake = SnakeAI()\n",
    "        while True:\n",
    "            state_old = agent.get_state(snake)\n",
    "            final_move = agent.get_action(state_old)\n",
    "            reward, done, score = snake.play(final_move)\n",
    "            if done:\n",
    "                total_score += score\n",
    "                break\n",
    "\n",
    "    return total_score / 5"
   ]
  },
  {
   "cell_type": "markdown",
   "metadata": {},
   "source": [
    "### 3. Selection Crossover and Mutation"
   ]
  },
  {
   "cell_type": "code",
   "execution_count": 5,
   "metadata": {},
   "outputs": [],
   "source": [
    "def select_parents(population, fitnesses):\n",
    "    # Normalize fitnesses to sum to 1 (probabilities)\n",
    "    fitnesses = fitnesses / np.sum(fitnesses)\n",
    "    \n",
    "    # Select two parents based on their fitness probabilities\n",
    "    selected_indices = np.random.choice(len(population), size=2, p=fitnesses)\n",
    "    \n",
    "    # Retrieve the actual genomes corresponding to the selected indices\n",
    "    parent1 = population[selected_indices[0]]\n",
    "    parent2 = population[selected_indices[1]]\n",
    "    \n",
    "    return parent1, parent2\n",
    "\n",
    "def crossover(parent1, parent2):\n",
    "    crossover_point = np.random.randint(0, len(parent1))\n",
    "    child = np.concatenate((parent1[:crossover_point], parent2[crossover_point:]))\n",
    "    return child\n",
    "\n",
    "def mutate(genome):\n",
    "    for i in range(len(genome)):\n",
    "        if random.random() < MUTATION_RATE:\n",
    "            genome[i] += np.random.randn() * 0.1  # Small mutation\n",
    "    return genome\n"
   ]
  },
  {
   "cell_type": "markdown",
   "metadata": {},
   "source": [
    "### 4. Evolution Loop"
   ]
  },
  {
   "cell_type": "code",
   "execution_count": 6,
   "metadata": {},
   "outputs": [],
   "source": [
    "def evolve_population(population):\n",
    "    best_fitnesses = []\n",
    "    average_fitnesses = []\n",
    "    diversity = []\n",
    "\n",
    "    for generation in range(GENERATIONS):\n",
    "        fitnesses = np.array([evaluate_fitness(genome) for genome in population])\n",
    "        new_population = []\n",
    "        \n",
    "        for _ in range(POPULATION_SIZE // 2):\n",
    "            parent1, parent2 = select_parents(population, fitnesses)\n",
    "            child1 = crossover(parent1, parent2)\n",
    "            child2 = crossover(parent2, parent1)\n",
    "            new_population.append(mutate(child1))\n",
    "            new_population.append(mutate(child2))\n",
    "        \n",
    "        population = new_population\n",
    "        \n",
    "        # Record metrics\n",
    "        best_fitness = np.max(fitnesses)\n",
    "        avg_fitness = np.mean(fitnesses)\n",
    "        pop_diversity = np.mean([np.std([genome[i] for genome in population]) for i in range(len(population[0]))])\n",
    "\n",
    "        best_fitnesses.append(best_fitness)\n",
    "        average_fitnesses.append(avg_fitness)\n",
    "        diversity.append(pop_diversity)\n",
    "\n",
    "        print(f\"Generation {generation} | Best Fitness: {best_fitness} | Average Fitness: {avg_fitness} | Diversity: {pop_diversity}\")\n",
    "    \n",
    "    return population, best_fitnesses, average_fitnesses, diversity\n",
    "    \n",
    "\n",
    "if __name__ == \"__main__\":\n",
    "    population = initialize_population()\n",
    "    evolved_population, best_fitnesses, average_fitnesses, diversity = evolve_population(population)\n",
    "    \n",
    "    best_genome = max(evolved_population, key=evaluate_fitness)\n",
    "    \n",
    "    best_model = Linear_QNet(INPUT_SIZE, HIDDEN_SIZE, OUTPUT_SIZE)\n",
    "    set_weights(best_model, best_genome)\n",
    "    best_model.save(\"best_genetic_model.pth\")\n",
    "\n",
    "    plt.figure(figsize=(12, 6))\n",
    "\n",
    "    plt.subplot(1, 3, 1)\n",
    "    plt.plot(best_fitnesses)\n",
    "    plt.title('Best Fitness Over Generations')\n",
    "    plt.xlabel('Generation')\n",
    "    plt.ylabel('Best Fitness')\n",
    "\n",
    "    plt.subplot(1, 3, 2)\n",
    "    plt.plot(average_fitnesses)\n",
    "    plt.title('Average Fitness Over Generations')\n",
    "    plt.xlabel('Generation')\n",
    "    plt.ylabel('Average Fitness')\n",
    "\n",
    "    plt.subplot(1, 3, 3)\n",
    "    plt.plot(diversity)\n",
    "    plt.title('Diversity Over Generations')\n",
    "    plt.xlabel('Generation')\n",
    "    plt.ylabel('Diversity')\n",
    "\n",
    "    plt.tight_layout()\n",
    "    plt.show()"
   ]
  },
  {
   "cell_type": "code",
   "execution_count": null,
   "metadata": {},
   "outputs": [],
   "source": []
  }
 ],
 "metadata": {
  "kernelspec": {
   "display_name": "rl",
   "language": "python",
   "name": "python3"
  },
  "language_info": {
   "codemirror_mode": {
    "name": "ipython",
    "version": 3
   },
   "file_extension": ".py",
   "mimetype": "text/x-python",
   "name": "python",
   "nbconvert_exporter": "python",
   "pygments_lexer": "ipython3",
   "version": "3.9.19"
  }
 },
 "nbformat": 4,
 "nbformat_minor": 2
}
